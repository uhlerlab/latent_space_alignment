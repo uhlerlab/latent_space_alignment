{
 "cells": [
  {
   "cell_type": "code",
   "execution_count": 6,
   "id": "happy-angola",
   "metadata": {},
   "outputs": [],
   "source": [
    "import torch\n",
    "import numpy as np"
   ]
  },
  {
   "cell_type": "code",
   "execution_count": 7,
   "id": "serial-selection",
   "metadata": {},
   "outputs": [],
   "source": [
    "c = 100\n",
    "sigma1 = np.array([\n",
    "    [c+2, 1],\n",
    "    [1, 2]\n",
    "])\n",
    "sigma2 = np.array([\n",
    "    [2, 1],\n",
    "    [1, c+2]\n",
    "])"
   ]
  },
  {
   "cell_type": "code",
   "execution_count": 8,
   "id": "injured-glass",
   "metadata": {},
   "outputs": [
    {
     "name": "stdout",
     "output_type": "stream",
     "text": [
      "[[0.99995001]\n",
      " [0.0099985 ]]\n",
      "[[0.0099985 ]\n",
      " [0.99995001]]\n"
     ]
    }
   ],
   "source": [
    "N = 100000\n",
    "X1 = np.random.multivariate_normal([1,0], sigma1, size=N)\n",
    "X2 = np.random.multivariate_normal([0,1], sigma2, size=N)\n",
    "X = np.concatenate([X1, X2])\n",
    "B = (1.0/N)*(X.T @ X)\n",
    "u, v = np.linalg.eig(sigma1)\n",
    "q1 = np.expand_dims(v[:, np.argmax(u)], 1)\n",
    "print(q1)\n",
    "u, v = np.linalg.eig(sigma2)\n",
    "q2 = -np.expand_dims(v[:, np.argmax(u)], 1)\n",
    "print(q2)"
   ]
  },
  {
   "cell_type": "code",
   "execution_count": 9,
   "id": "certified-prospect",
   "metadata": {},
   "outputs": [],
   "source": [
    "def get_cosine_distance(a, b):\n",
    "    a = a.squeeze()\n",
    "    b = b.squeeze()\n",
    "    return np.dot(a,b)/(np.linalg.norm(a)*np.linalg.norm(b))"
   ]
  },
  {
   "cell_type": "code",
   "execution_count": 10,
   "id": "juvenile-fairy",
   "metadata": {},
   "outputs": [
    {
     "name": "stdout",
     "output_type": "stream",
     "text": [
      "0.055719677071596856\n",
      "0.05577602821963878\n"
     ]
    }
   ],
   "source": [
    "print(get_cosine_distance(B @ q1, B @ q2))\n",
    "w, _ = np.linalg.eig(B)\n",
    "w = np.sort(w)[::-1]\n",
    "gamma = (w[0]**2 - w[1]**2)/(w[0]**2 + w[1]**2)\n",
    "theory = (2 + gamma*np.sqrt(c**2 + 4))/(2*gamma + np.sqrt(c**2 + 4))\n",
    "print(theory)"
   ]
  },
  {
   "cell_type": "code",
   "execution_count": null,
   "id": "ongoing-queens",
   "metadata": {},
   "outputs": [],
   "source": []
  }
 ],
 "metadata": {
  "kernelspec": {
   "display_name": "Python 3",
   "language": "python",
   "name": "python3"
  },
  "language_info": {
   "codemirror_mode": {
    "name": "ipython",
    "version": 3
   },
   "file_extension": ".py",
   "mimetype": "text/x-python",
   "name": "python",
   "nbconvert_exporter": "python",
   "pygments_lexer": "ipython3",
   "version": "3.9.2"
  }
 },
 "nbformat": 4,
 "nbformat_minor": 5
}
