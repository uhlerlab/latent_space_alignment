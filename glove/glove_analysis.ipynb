{
 "cells": [
  {
   "cell_type": "code",
   "execution_count": 1,
   "metadata": {},
   "outputs": [],
   "source": [
    "import csv\n",
    "import numpy as np\n",
    "import os\n",
    "from glob import glob\n",
    "from tqdm import tqdm_notebook as tqdm\n",
    "import matplotlib.pyplot as plt\n",
    "import seaborn as sns\n",
    "import pandas as pd\n",
    "import torch\n",
    "import umap"
   ]
  },
  {
   "cell_type": "code",
   "execution_count": null,
   "metadata": {},
   "outputs": [],
   "source": [
    "glove_data_file = 'glove.840B.300d.txt' # download from https://nlp.stanford.edu/projects/glove/\n",
    "words_file = \"glove.840B.300d_small.pkl\"\n",
    "words_big_file = \"glove.840B.300d_big.pkl\""
   ]
  },
  {
   "cell_type": "markdown",
   "metadata": {},
   "source": [
    "## Read Data"
   ]
  },
  {
   "cell_type": "code",
   "execution_count": null,
   "metadata": {},
   "outputs": [],
   "source": [
    "# Run This if you have not yet run this notebook\n",
    "\n",
    "words_big = pd.read_table(glove_data_file, sep=\" \", index_col=0, header=None, quoting=csv.QUOTE_NONE)\n",
    "words = words_big.head(500000)\n",
    "words.to_pickle(words_big_file)\n",
    "vocab_set = set(words.index.tolist())"
   ]
  },
  {
   "cell_type": "code",
   "execution_count": 4,
   "metadata": {},
   "outputs": [],
   "source": [
    "# Run this to load the words from a pre-loaded pickle file (if you've run the notebook above)\n",
    "\n",
    "words = pd.read_pickle(words_file)\n",
    "vocab_set = set(words.index.tolist())"
   ]
  },
  {
   "cell_type": "code",
   "execution_count": 6,
   "metadata": {},
   "outputs": [],
   "source": [
    "import csv\n",
    "from scipy.stats import pearsonr, spearmanr\n",
    "\n",
    "def pairwise_cosine_distance(a, a_star):\n",
    "    a = a/a.norm(dim=-1).unsqueeze(-1)\n",
    "    a_star = a_star/a_star.norm(dim=-1).unsqueeze(-1)\n",
    "    return (a.unsqueeze(1) @ a_star.unsqueeze(-1)).squeeze(-1).squeeze(-1)\n",
    "\n",
    "def all_to_all_cosine_distance(a, a_star):\n",
    "    a = a/a.norm(dim=-1).unsqueeze(-1)\n",
    "    a_star = a_star/a_star.norm(dim=-1).unsqueeze(-1)\n",
    "    return a @ a_star.T\n",
    "\n",
    "def get_word_index(word):\n",
    "    try:\n",
    "        return words.index.get_loc(word)\n",
    "    except KeyError:\n",
    "        return None\n",
    "    \n",
    "def get_from_index(df, indices):\n",
    "    return torch.tensor(df.iloc[indices].to_numpy()).cuda()\n",
    "\n",
    "class WordSim():\n",
    "    def __init__(self, rows):\n",
    "        self.rows = rows\n",
    "        \n",
    "    def evaluate(self, df, origin=None):\n",
    "        with torch.no_grad():\n",
    "            a = torch.tensor(df.loc[self.rows[0]].to_numpy()).cuda()\n",
    "            a_star = torch.tensor(df.loc[self.rows[1]].to_numpy()).cuda()\n",
    "            if origin is not None:\n",
    "                origin = torch.tensor(origin).cuda()\n",
    "                a = a - origin\n",
    "                a_star = a_star - origin\n",
    "            cosine_distances = pairwise_cosine_distance(a, a_star).cpu().numpy()\n",
    "        scores = self.rows[2].to_list()\n",
    "        sim_corr, _ = spearmanr(cosine_distances, scores)\n",
    "        return sim_corr\n",
    "        \n",
    "    \n",
    "class MTurk771(WordSim):\n",
    "    def __init__(self):\n",
    "        rows = self.get_mturk_word_sim()\n",
    "        super().__init__(rows)\n",
    "    \n",
    "    def get_mturk_word_sim(self):\n",
    "        rows = pd.read_csv('eval_datasets/MTURK-771.csv', header=None).reset_index(drop=True)\n",
    "        keep_inds = []\n",
    "        for i, r in rows.iterrows():\n",
    "            keep = True\n",
    "            for idx in range(2):\n",
    "                if r[idx] not in vocab_set:\n",
    "                    keep = False\n",
    "            if keep:\n",
    "                keep_inds.append(i)\n",
    "        return rows.iloc[keep_inds]\n",
    "    \n",
    "class MEN(WordSim):\n",
    "    def __init__(self):\n",
    "        rows = self.get_mturk_word_sim()\n",
    "        super().__init__(rows)\n",
    "    \n",
    "    def get_mturk_word_sim(self):\n",
    "        rows = pd.read_csv('eval_datasets/MEN.txt', sep=' ', header=None).reset_index(drop=True)\n",
    "        keep_inds = []\n",
    "        for i, r in rows.iterrows():\n",
    "            keep = True\n",
    "            for idx in range(2):\n",
    "                if r[idx] not in vocab_set:\n",
    "                    keep = False\n",
    "            if keep:\n",
    "                keep_inds.append(i)\n",
    "        return rows.iloc[keep_inds]\n",
    "    \n",
    "class Analogy():\n",
    "    def eval_translation_cosine_distances(self, a1, a2, b1, b2):\n",
    "        return pairwise_cosine_distance(a1-a2, b1-b2)\n",
    "\n",
    "    \n",
    "    def eval_translation_cosine_distance_acc(self, a1, a2, b1, embs):\n",
    "        target = a2 - a1 + b1\n",
    "        pwd = all_to_all_cosine_distance(target, embs)\n",
    "        best_indices = pwd.argmax(-1)\n",
    "        return best_indices\n",
    "    \n",
    "    \n",
    "class GoogleAnalogy(Analogy):\n",
    "    def __init__(self):\n",
    "        self.analogy_words = self.get_word_analogy()\n",
    "        \n",
    "    def get_word_analogy(self):\n",
    "        question_words = pd.read_csv('eval_datasets/questions-words.txt', sep=\" \", header=None).dropna().reset_index(drop=True)\n",
    "        keep_inds = []\n",
    "        for i, r in question_words.iterrows():\n",
    "            keep = True\n",
    "            for idx in range(4):\n",
    "                if r[idx] not in vocab_set:\n",
    "                    keep = False\n",
    "            if keep:\n",
    "                keep_inds.append(i)\n",
    "        return question_words.iloc[keep_inds]\n",
    "\n",
    "    def evaluate(self, df):\n",
    "        with torch.no_grad():\n",
    "            embs = torch.tensor(df.to_numpy()).cuda()\n",
    "            a1 = torch.tensor(df.loc[self.analogy_words[0]].to_numpy()).cuda()\n",
    "            a2 = torch.tensor(df.loc[self.analogy_words[1]].to_numpy()).cuda()\n",
    "            b1 = torch.tensor(df.loc[self.analogy_words[2]].to_numpy()).cuda()\n",
    "            b2 = torch.tensor(df.loc[self.analogy_words[3]].to_numpy()).cuda()\n",
    "            translation_cosine_distances = self.eval_translation_cosine_distances(a1, a2, b1, b2)\n",
    "            \n",
    "            bs = 1000 #1000\n",
    "            N = len(a1)\n",
    "            total_correct = 0\n",
    "            total = 0\n",
    "            for i in range(N//bs):\n",
    "                print(i)\n",
    "                preds = self.eval_translation_cosine_distance_acc(a1[i*bs:(i+1)*bs], a2[i*bs:(i+1)*bs], b1[i*bs:(i+1)*bs], embs)\n",
    "                accs_words = np.array(df.index[preds.cpu().numpy()])\n",
    "                gt = np.array(self.analogy_words[3][i*bs:(i+1)*bs].to_list())\n",
    "                total_correct += len(gt[gt == accs_words])\n",
    "                total += len(gt)\n",
    "        return  translation_cosine_distances.mean().item(), total_correct/total \n",
    "        \n",
    "ga = GoogleAnalogy()\n",
    "mturk = MTurk771()\n",
    "men = MEN()\n",
    "    \n",
    "def evaluate(df, origin=None):\n",
    "    print(\"MTURK\")\n",
    "    print(mturk.evaluate(df, origin=origin))\n",
    "    print(\"MEN\")\n",
    "    print(men.evaluate(df, origin=origin))\n",
    "    print(\"Google Analogy\")\n",
    "#     print(ga.evaluate(df))\n",
    "\n",
    "    "
   ]
  },
  {
   "cell_type": "code",
   "execution_count": 7,
   "metadata": {},
   "outputs": [],
   "source": [
    "def compute_origin(X_):\n",
    "    XX_ = X_.T @ X_\n",
    "    w, v = np.linalg.eig(XX_)\n",
    "    max_ind = np.argmax(w)\n",
    "    return np.sqrt(w[max_ind])*v[:, [max_ind]].T\n",
    "    "
   ]
  },
  {
   "cell_type": "code",
   "execution_count": 8,
   "metadata": {},
   "outputs": [
    {
     "name": "stdout",
     "output_type": "stream",
     "text": [
      "MTURK\n",
      "0.7152662346409334\n",
      "MEN\n",
      "0.804934472292358\n",
      "Google Analogy\n",
      "=====\n",
      "MTURK\n",
      "0.6296133213751208\n",
      "MEN\n",
      "0.7393664163265018\n",
      "Google Analogy\n"
     ]
    }
   ],
   "source": [
    "# Evaluate original dataset, reference corrected and default origin\n",
    "words_origin = compute_origin(words.to_numpy())\n",
    "evaluate(words)\n",
    "print(\"=====\")\n",
    "evaluate(words, words_origin)"
   ]
  },
  {
   "cell_type": "markdown",
   "metadata": {},
   "source": [
    "## Linear AE"
   ]
  },
  {
   "cell_type": "code",
   "execution_count": 9,
   "metadata": {},
   "outputs": [],
   "source": [
    "import torch\n",
    "import torch.nn as nn\n",
    "import torch.optim as optim\n",
    "import numpy as np\n",
    "\n",
    "import torch\n",
    "class OneLayerLinear(nn.Module):\n",
    "    def __init__(self, X, polynomial=1):\n",
    "        super().__init__()\n",
    "        X = torch.tensor(X)\n",
    "        N = X.shape[0]\n",
    "        nin = X.shape[1]\n",
    "        print(nin)\n",
    "        self.A = nn.Parameter(torch.zeros((nin, nin)))\n",
    "        dat = X.T @ X / float(N)\n",
    "        dat = dat + torch.eye(dat.shape[0])\n",
    "        b_data = torch.matrix_power(dat, int(polynomial))\n",
    "        self.B = nn.Parameter(b_data)\n",
    "        print(self.A.shape,self.B.shape)\n",
    "    \n",
    "    def encode(self, x):\n",
    "        hidden = self.B @ x.T\n",
    "        return hidden.T\n",
    "    \n",
    "    def decode(self, hidden):\n",
    "        out = self.A @ hidden.T\n",
    "        return out.T\n",
    "        \n",
    "    def forward(self, x):\n",
    "        hidden = self.encode(x)\n",
    "        out = self.decode(hidden)\n",
    "        return out, hidden\n",
    "    \n",
    "\n",
    "def compute_converged(net):\n",
    "    B = net.B.data.cpu().numpy()\n",
    "    w, v = np.linalg.eig(B)\n",
    "    new_w = np.sqrt((w ** 2)/2 + np.sqrt(1 + (w ** 4)/4))\n",
    "    new_a_w = 1/new_w\n",
    "    new_B = v @ np.diag(new_w) @ v.T\n",
    "    new_A = v @ np.diag(new_a_w) @ v.T\n",
    "    net.A.data = torch.tensor(new_A)\n",
    "    net.B.data = torch.tensor(new_B)\n",
    "    return new_A, new_B\n",
    "    "
   ]
  },
  {
   "cell_type": "code",
   "execution_count": 10,
   "metadata": {},
   "outputs": [
    {
     "name": "stderr",
     "output_type": "stream",
     "text": [
      "<ipython-input-9-c732db9f5b82>:10: UserWarning: To copy construct from a tensor, it is recommended to use sourceTensor.clone().detach() or sourceTensor.clone().detach().requires_grad_(True), rather than torch.tensor(sourceTensor).\n",
      "  X = torch.tensor(X)\n"
     ]
    },
    {
     "name": "stdout",
     "output_type": "stream",
     "text": [
      "300\n",
      "torch.Size([300, 300]) torch.Size([300, 300])\n"
     ]
    },
    {
     "data": {
      "text/plain": [
       "(array([[ 6.52443117e-01,  7.51936295e-03,  1.46686384e-03, ...,\n",
       "         -2.80164144e-03,  1.75004063e-03,  1.78849679e-03],\n",
       "        [ 7.51936295e-03,  6.50599171e-01,  2.02563080e-03, ...,\n",
       "          6.26849441e-04,  1.05821270e-03, -2.90239471e-03],\n",
       "        [ 1.46686384e-03,  2.02563080e-03,  6.59653483e-01, ...,\n",
       "          1.01561987e-03,  1.45673614e-03,  3.68112518e-03],\n",
       "        ...,\n",
       "        [-2.80164144e-03,  6.26849441e-04,  1.01561987e-03, ...,\n",
       "          6.58050430e-01,  1.46833913e-03,  1.43470387e-03],\n",
       "        [ 1.75004063e-03,  1.05821270e-03,  1.45673614e-03, ...,\n",
       "          1.46833913e-03,  6.59899957e-01, -3.45999331e-05],\n",
       "        [ 1.78849679e-03, -2.90239471e-03,  3.68112518e-03, ...,\n",
       "          1.43470387e-03, -3.45999331e-05,  6.59743077e-01]]),\n",
       " array([[ 1.66419466, -0.13998338,  0.06814787, ...,  0.08655103,\n",
       "         -0.07196952, -0.07478052],\n",
       "        [-0.13998338,  1.67102038, -0.07841979, ..., -0.0822678 ,\n",
       "          0.06511743,  0.07907682],\n",
       "        [ 0.06814787, -0.07841979,  1.57459797, ...,  0.04766471,\n",
       "         -0.04641014, -0.05500461],\n",
       "        ...,\n",
       "        [ 0.08655103, -0.0822678 ,  0.04766471, ...,  1.58086366,\n",
       "         -0.04938367, -0.0526242 ],\n",
       "        [-0.07196952,  0.06511743, -0.04641014, ..., -0.04938367,\n",
       "          1.56241755,  0.04206889],\n",
       "        [-0.07478052,  0.07907682, -0.05500461, ..., -0.0526242 ,\n",
       "          0.04206889,  1.56642393]]))"
      ]
     },
     "execution_count": 10,
     "metadata": {},
     "output_type": "execute_result"
    }
   ],
   "source": [
    "poly = 2\n",
    "embeddings = torch.tensor(words.to_numpy())\n",
    "net = OneLayerLinear(embeddings, poly).cuda()\n",
    "compute_converged(net)"
   ]
  },
  {
   "cell_type": "code",
   "execution_count": 11,
   "metadata": {},
   "outputs": [],
   "source": [
    "with torch.no_grad():\n",
    "    _, hidden = net(embeddings)\n",
    "hidden = hidden.cpu()\n",
    "targets = hidden.numpy()\n",
    "target_df = pd.DataFrame(targets)\n",
    "target_df['words'] = words.index\n",
    "target_df = target_df.set_index('words')"
   ]
  },
  {
   "cell_type": "code",
   "execution_count": 12,
   "metadata": {},
   "outputs": [
    {
     "name": "stdout",
     "output_type": "stream",
     "text": [
      "MTURK\n",
      "0.2534933714086027\n",
      "MEN\n",
      "0.22121151771279488\n",
      "Google Analogy\n",
      "===\n",
      "MTURK\n",
      "0.6112299060852094\n",
      "MEN\n",
      "0.7291944315879058\n",
      "Google Analogy\n"
     ]
    }
   ],
   "source": [
    "# evaluate after autoencoding\n",
    "net = net.cuda()\n",
    "with torch.no_grad():\n",
    "    _, target_origin = net(torch.tensor(words_origin).cuda())\n",
    "target_origin = target_origin.cpu().numpy()\n",
    "evaluate(target_df, None)\n",
    "print(\"===\")\n",
    "evaluate(target_df, target_origin)"
   ]
  },
  {
   "cell_type": "markdown",
   "metadata": {},
   "source": [
    "## Non-Linear AE"
   ]
  },
  {
   "cell_type": "code",
   "execution_count": null,
   "metadata": {},
   "outputs": [],
   "source": [
    "import torch.nn as nn\n",
    "import torch\n",
    "def get_layer(nin, nout):\n",
    "    c = nn.Linear(nin, nout, bias=False)\n",
    "    torch.nn.init.normal_(c.weight)\n",
    "    return c\n",
    "\n",
    "class OneLayerLeakyMLP(nn.Module):\n",
    "    def __init__(self, width, inp_width=300):\n",
    "        super().__init__()\n",
    "        self.act = nn.LeakyReLU()\n",
    "        self.A = torch.nn.Linear(width, inp_width)\n",
    "        self.B = torch.nn.Linear(inp_width, width)\n",
    "        \n",
    "    def forward(self, x):\n",
    "        pre_act = self.B(x)\n",
    "        post_act = self.act(pre_act)\n",
    "        out = self.A(post_act)\n",
    "        return out, pre_act\n"
   ]
  },
  {
   "cell_type": "code",
   "execution_count": null,
   "metadata": {},
   "outputs": [],
   "source": [
    "import torch.optim as optim\n",
    "def train(net, all_pts, lr):\n",
    "    optimizer = optim.SGD(net.parameters(), lr=lr, momentum=0.9)\n",
    "    scheduler = optim.lr_scheduler.StepLR(optimizer, 50000, gamma=0.5)\n",
    "    ds = torch.utils.data.TensorDataset(all_pts)\n",
    "    dl = torch.utils.data.DataLoader(ds, batch_size=1024)\n",
    "    prev = np.infty\n",
    "    i = 0\n",
    "    while True:\n",
    "        for (x,) in dl:\n",
    "            x = x.cuda()\n",
    "            optimizer.zero_grad()\n",
    "            train_criterion = torch.nn.MSELoss()\n",
    "            yh, _ = net(x)\n",
    "            l = train_criterion(yh, x)\n",
    "            l.backward()\n",
    "            optimizer.step()\n",
    "        scheduler.step()\n",
    "        for param_group in optimizer.param_groups:\n",
    "            print(l.item(), prev, prev - l.item(), param_group['lr'])\n",
    "        if np.abs(prev - l.item()) < 1e-4:\n",
    "            break\n",
    "        prev = l.item()\n",
    "        i += 1\n",
    "    return net"
   ]
  },
  {
   "cell_type": "code",
   "execution_count": null,
   "metadata": {},
   "outputs": [],
   "source": [
    "net = OneLayerLeakyMLP(400, inp_width=300).cuda().float()"
   ]
  },
  {
   "cell_type": "code",
   "execution_count": null,
   "metadata": {},
   "outputs": [],
   "source": [
    "net = train(net, embeddings.float(), 0.1)"
   ]
  },
  {
   "cell_type": "code",
   "execution_count": null,
   "metadata": {},
   "outputs": [],
   "source": [
    "with torch.no_grad():\n",
    "    inp = embeddings.cuda().float()\n",
    "    _, hidden = net(inp)\n",
    "hidden = hidden.cpu()\n",
    "targets = hidden.numpy()\n",
    "target_df = pd.DataFrame(targets)\n",
    "target_df['words'] = words.index\n",
    "target_df = target_df.set_index('words')\n"
   ]
  },
  {
   "cell_type": "code",
   "execution_count": null,
   "metadata": {},
   "outputs": [],
   "source": [
    "with torch.no_grad():\n",
    "    _, target_origin = net(torch.tensor(words_origin).float().cuda())\n",
    "target_origin = target_origin.cpu().numpy()\n",
    "evaluate(target_df, None)\n",
    "print(\"===\")\n",
    "evaluate(target_df, target_origin)"
   ]
  },
  {
   "cell_type": "markdown",
   "metadata": {},
   "source": [
    "## Frequency Analysis"
   ]
  },
  {
   "cell_type": "code",
   "execution_count": null,
   "metadata": {},
   "outputs": [],
   "source": [
    "XX_words = (embeddings.T @ embeddings).numpy()\n",
    "w_words, v_words = np.linalg.eig(XX_words)\n",
    "max_ind_words = np.argmax(w_words)\n",
    "top_vec_words = torch.tensor(v_words[:, [max_ind_words]])\n",
    "norm_embeddings = embeddings/torch.linalg.norm(embeddings, dim=1).unsqueeze(1)    \n",
    "activations = norm_embeddings @ top_vec_words\n"
   ]
  },
  {
   "cell_type": "code",
   "execution_count": null,
   "metadata": {},
   "outputs": [],
   "source": [
    "plt.hexbin(np.arange(len(activations)), activations.squeeze(1).numpy(), mincnt=1)\n",
    "plt.xlabel(r\"Frequency Index of $w$\")\n",
    "plt.ylabel(r\"$\\cos(w, u_1)$\")\n",
    "plt.savefig(\"top_singular_direction.pdf\")\n",
    "plt.show()"
   ]
  },
  {
   "cell_type": "markdown",
   "metadata": {},
   "source": [
    "## Correlation Analysis"
   ]
  },
  {
   "cell_type": "code",
   "execution_count": 13,
   "metadata": {},
   "outputs": [],
   "source": [
    "def get_corrs(df):\n",
    "    with torch.no_grad():\n",
    "        a1 = torch.tensor(df.loc[ga.analogy_words[0]].to_numpy()).cuda()\n",
    "        a2 = torch.tensor(df.loc[ga.analogy_words[1]].to_numpy()).cuda()\n",
    "        b1 = torch.tensor(df.loc[ga.analogy_words[2]].to_numpy()).cuda()\n",
    "        b2 = torch.tensor(df.loc[ga.analogy_words[3]].to_numpy()).cuda()\n",
    "        return ga.eval_translation_cosine_distances(a1, a2, b1, b2).cpu().numpy()\n",
    "    "
   ]
  },
  {
   "cell_type": "code",
   "execution_count": 14,
   "metadata": {},
   "outputs": [],
   "source": [
    "word_corrs = get_corrs(words)\n",
    "target_corrs = get_corrs(target_df)"
   ]
  },
  {
   "cell_type": "code",
   "execution_count": 19,
   "metadata": {},
   "outputs": [
    {
     "data": {
      "text/plain": [
       "0.7620174987133299"
      ]
     },
     "execution_count": 19,
     "metadata": {},
     "output_type": "execute_result"
    }
   ],
   "source": [
    "len(target_corrs[target_corrs > 0.50])/len(target_corrs)"
   ]
  },
  {
   "cell_type": "code",
   "execution_count": 15,
   "metadata": {},
   "outputs": [
    {
     "data": {
      "image/png": "[encoded data removed]",
      "text/plain": [
       "<Figure size 432x288 with 1 Axes>"
      ]
     },
     "metadata": {
      "needs_background": "light"
     },
     "output_type": "display_data"
    }
   ],
   "source": [
    "plt.hexbin(word_corrs, target_corrs, mincnt=1)\n",
    "plt.xlim(-1, 1)\n",
    "plt.ylim(-1, 1)\n",
    "plt.xlabel(\"Cosine Similarity in Original Space\")\n",
    "plt.ylabel(\"Cosine Similarity in Embedded Space\")\n",
    "plt.savefig(\"glove_cos_sim_relu_k_2.pdf\")\n",
    "plt.show()"
   ]
  },
  {
   "cell_type": "markdown",
   "metadata": {},
   "source": [
    "# Analogy Analysis"
   ]
  },
  {
   "cell_type": "code",
   "execution_count": null,
   "metadata": {},
   "outputs": [],
   "source": [
    "from sklearn.decomposition import PCA\n",
    "import matplotlib.pyplot as plt\n",
    "from sklearn.manifold import TSNE\n",
    "import umap\n",
    "from sklearn.manifold import MDS\n",
    "\n",
    "def get_pca(embs):\n",
    "    pca = PCA(n_components=8)\n",
    "    pca.fit(embs)\n",
    "    transformed_emb = pca.transform(embs)\n",
    "    for i in range(6):\n",
    "        plt.hexbin(np.arange(len(transformed_emb)), transformed_emb[:, i], mincnt=1)\n",
    "        plt.show()\n",
    "    return transformed_emb\n",
    "\n",
    "def plot_pca(latent, indices, pairs=None):\n",
    "    fig, ax = plt.subplots(2, 2, figsize=(16, 2*8))\n",
    "    tuples = [[(0,1), (2,3)], [(4,5), (6, 7)]]\n",
    "    for i in range(2):\n",
    "        for j in range(2):\n",
    "            x_pca, y_pca = tuples[i][j]\n",
    "            ax_ = ax[i,j]\n",
    "            for idx in indices:\n",
    "                ax_.scatter(latent[[idx], x_pca], latent[[idx], y_pca], color='steelblue')\n",
    "                ax_.annotate(words.index[idx], (latent[idx, x_pca], latent[idx, y_pca]), alpha=0.7, fontsize='small')\n",
    "                ax_.set_xlabel(f\"PCA Component {x_pca}\")\n",
    "                ax_.set_ylabel(f\"PCA Component {y_pca}\")\n",
    "            if pairs is not None:\n",
    "                for start, end in pairs:\n",
    "                    start_x, start_y = latent[start, x_pca], latent[start, y_pca]\n",
    "                    end_x, end_y = latent[end, x_pca], latent[end, y_pca]\n",
    "                    ax_.arrow(start_x, start_y, end_x-start_x, end_y - start_y, ls=':', color='gray')\n",
    "    plt.tight_layout()\n",
    "    plt.show()\n",
    "    \n",
    "def get_umap_transformed(embs):\n",
    "    reducer = umap.UMAP(random_state=42,n_components=2)\n",
    "    latent = reducer.fit_transform(embs)\n",
    "    return latent\n",
    "\n",
    "def get_mds_transformed(embs):\n",
    "    reducer = MDS(random_state=42,n_components=2)\n",
    "    latent = reducer.fit_transform(embs)\n",
    "    return latent\n",
    "\n",
    "def plot_latent(latent, indices, pairs=None):\n",
    "    fig, ax = plt.subplots(1, 1, figsize=(10, 10))\n",
    "    x_pca = 0\n",
    "    y_pca = 1\n",
    "    ax_ = ax\n",
    "    for idx in indices:\n",
    "        if idx > len(latent):\n",
    "            continue\n",
    "        ax_.scatter(latent[[idx], x_pca], latent[[idx], y_pca], color='steelblue')\n",
    "        ax_.annotate(words.index[idx], (latent[idx, x_pca], latent[idx, y_pca]), alpha=0.7, fontsize='small')\n",
    "    if pairs is not None:\n",
    "        for start, end in pairs:\n",
    "            if start >= len(latent) or end >= len(latent):\n",
    "                continue\n",
    "            start_x, start_y = latent[start, x_pca], latent[start, y_pca]\n",
    "            end_x, end_y = latent[end, x_pca], latent[end, y_pca]\n",
    "            ax_.arrow(start_x, start_y, end_x-start_x, end_y - start_y, ls=':', color='gray')\n",
    "    plt.tight_layout()\n",
    "    plt.show()\n",
    "\n",
    "def plot_latent_dict(latent, indices, pairs=None, filename=None, xlim=None, ylim=None):\n",
    "    fig, ax = plt.subplots(1, 1, figsize=(8, 8))\n",
    "    x_pca = 0\n",
    "    y_pca = 1\n",
    "    ax_ = ax\n",
    "    for idx in indices:\n",
    "        latent_indiv = np.array([latent[idx]])\n",
    "        ax_.scatter(latent_indiv[:, x_pca], latent_indiv[:, y_pca], color='steelblue')\n",
    "        ax_.annotate(words.index[idx], (latent_indiv[0, x_pca], latent_indiv[0, y_pca]), \n",
    "                     xytext=(5, 2), textcoords='offset points', alpha=0.7, fontsize='x-large', fontfamily='sans-serif')\n",
    "    if pairs is not None:\n",
    "        for start, end in pairs:\n",
    "            start_x, start_y = latent[start][x_pca], latent[start][y_pca]\n",
    "            end_x, end_y = latent[end][x_pca], latent[end][y_pca]\n",
    "            ax_.annotate(\"\", xytext=(start_x, start_y), xy=(end_x, end_y), arrowprops=dict(arrowstyle=\"->\", color=\"gray\", linestyle=\"-\"))\n",
    "#             ax_.arrow(start_x, start_y, end_x-start_x, end_y - start_y, ls=':', color='gray', head_width=0.1,)\n",
    "    plt.xlabel(\"MDS Component 1\", fontfamily='sans-serif', fontsize=12)\n",
    "    plt.ylabel(\"MDS Component 2\", fontfamily='sans-serif', fontsize=12)\n",
    "    if xlim is not None:\n",
    "        plt.xlim(*xlim)\n",
    "    if ylim is not None:\n",
    "        plt.ylim(*ylim)\n",
    "    if filename is not None:\n",
    "        plt.savefig(filename, bbox_inches='tight')\n",
    "    plt.show()"
   ]
  },
  {
   "cell_type": "code",
   "execution_count": null,
   "metadata": {},
   "outputs": [],
   "source": [
    "embeddings.shape"
   ]
  },
  {
   "cell_type": "code",
   "execution_count": null,
   "metadata": {},
   "outputs": [],
   "source": [
    "# genders: 8250:8750\n",
    "# plurals: 17300:19543\n",
    "# make adjective: 8755:9747\n",
    "# make negative: 9748:10559\n",
    "# comparative/superlative: 10560:13013\n",
    "# comparative 10560:11890\n",
    "ga_indices = set()\n",
    "ga_pairs = set()\n",
    "for i, row in enumerate(ga.analogy_words[11900:13013].iterrows()):\n",
    "#     if i % 260 != 0: # uncomment to get the subset for negation\n",
    "#         continue\n",
    "    if i % 100 == 0:\n",
    "        print(i)\n",
    "    row_words = [words.index.get_loc(row[1][j]) for j in range(4)]\n",
    "    for idx in row_words:\n",
    "        ga_indices.add(idx)\n",
    "    ga_pairs.add((row_words[0], row_words[1]))\n",
    "    ga_pairs.add((row_words[2], row_words[3]))"
   ]
  },
  {
   "cell_type": "code",
   "execution_count": null,
   "metadata": {},
   "outputs": [],
   "source": [
    "# latent_tsne = get_umap_transformed(embeddings[:30000])\n",
    "# target_latent_tsne = get_umap_transformed(targets[:30000])\n",
    "ga_list = np.array(list(ga_indices))\n",
    "latent_tsne = get_mds_transformed(embeddings[ga_list])\n",
    "latent_tsne = {ga_list[idx]: latent_tsne[idx] for idx in range(len(ga_list))}\n",
    "target_latent_tsne = get_mds_transformed(targets[ga_list])\n",
    "target_latent_tsne = {ga_list[idx]: target_latent_tsne[idx] for idx in range(len(ga_list))}\n",
    "plot_latent_dict(latent_tsne, ga_indices, ga_pairs, \"original_negation.pdf\", ylim=None)\n",
    "plot_latent_dict(target_latent_tsne, ga_indices, ga_pairs, \"negation_linear_ae_2.pdf\")\n"
   ]
  }
 ],
 "metadata": {
  "kernelspec": {
   "display_name": "Python 3",
   "language": "python",
   "name": "python3"
  },
  "language_info": {
   "codemirror_mode": {
    "name": "ipython",
    "version": 3
   },
   "file_extension": ".py",
   "mimetype": "text/x-python",
   "name": "python",
   "nbconvert_exporter": "python",
   "pygments_lexer": "ipython3",
   "version": "3.9.2"
  }
 },
 "nbformat": 4,
 "nbformat_minor": 2
}
